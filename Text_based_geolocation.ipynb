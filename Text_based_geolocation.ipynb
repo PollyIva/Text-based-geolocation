{
  "nbformat": 4,
  "nbformat_minor": 0,
  "metadata": {
    "colab": {
      "provenance": [],
      "mount_file_id": "1_pVndLjnV-OojoVuptIxc-tk_0hIELwM",
      "authorship_tag": "ABX9TyP0A77cmv+HANkBV2fw01VB",
      "include_colab_link": true
    },
    "kernelspec": {
      "name": "python3",
      "display_name": "Python 3"
    },
    "language_info": {
      "name": "python"
    }
  },
  "cells": [
    {
      "cell_type": "markdown",
      "metadata": {
        "id": "view-in-github",
        "colab_type": "text"
      },
      "source": [
        "<a href=\"https://colab.research.google.com/github/PollyIva/Text-based-geolocation/blob/main/Text_based_geolocation.ipynb\" target=\"_parent\"><img src=\"https://colab.research.google.com/assets/colab-badge.svg\" alt=\"Open In Colab\"/></a>"
      ]
    },
    {
      "cell_type": "code",
      "execution_count": 9,
      "metadata": {
        "id": "LEe5I5TN3wPe"
      },
      "outputs": [],
      "source": [
        "import pandas as pd"
      ]
    },
    {
      "cell_type": "code",
      "source": [
        "from google.colab import drive\n",
        "drive.mount('/content/drive')"
      ],
      "metadata": {
        "id": "wN2RCA1c5HVU"
      },
      "execution_count": null,
      "outputs": []
    },
    {
      "cell_type": "code",
      "source": [
        "# /content/drive/MyDrive/Colab_Notebooks/Text-based-geolocation/training_data/training_data/c_0.json\n",
        "import glob"
      ],
      "metadata": {
        "id": "8MZZrDH28VQ9"
      },
      "execution_count": 1,
      "outputs": []
    },
    {
      "cell_type": "code",
      "source": [
        "#собираем все пути\n",
        "all_files = glob.glob('/content/drive/MyDrive/Colab_Notebooks/Text-based-geolocation/training_data/training_data/*')"
      ],
      "metadata": {
        "id": "ABB49nNTjtFz"
      },
      "execution_count": 2,
      "outputs": []
    },
    {
      "cell_type": "code",
      "source": [
        "df_arr = []\n",
        "for i, file_ in enumerate(all_files):\n",
        "    df = pd.read_json(file_, lines=True)\n",
        "    df['city'] = i\n",
        "    df_arr.append(df)\n"
      ],
      "metadata": {
        "id": "L7uF2U7LpJMt"
      },
      "execution_count": 10,
      "outputs": []
    },
    {
      "cell_type": "code",
      "source": [
        "df_all = pd.concat([i for i in df_arr], ignore_index=True)"
      ],
      "metadata": {
        "id": "9qth8O9lqaRq"
      },
      "execution_count": 14,
      "outputs": []
    },
    {
      "cell_type": "code",
      "source": [
        "df0 = df_all[df_all['city'] == 0]"
      ],
      "metadata": {
        "id": "7FtrwbjzqxJ-"
      },
      "execution_count": 22,
      "outputs": []
    },
    {
      "cell_type": "code",
      "source": [
        "type(df0['coordinates'][0][0])"
      ],
      "metadata": {
        "colab": {
          "base_uri": "https://localhost:8080/"
        },
        "id": "tPgp6-Z9qzKx",
        "outputId": "8cf10874-8f17-4dbb-9202-639f1d76dd8b"
      },
      "execution_count": 23,
      "outputs": [
        {
          "output_type": "execute_result",
          "data": {
            "text/plain": [
              "str"
            ]
          },
          "metadata": {},
          "execution_count": 23
        }
      ]
    },
    {
      "cell_type": "code",
      "source": [
        "coordinates = df0.coordinates.tolist()"
      ],
      "metadata": {
        "id": "wjh0HePztqOH"
      },
      "execution_count": 25,
      "outputs": []
    },
    {
      "cell_type": "code",
      "source": [
        "latitude, longitude = [], [] #Широта, долгота"
      ],
      "metadata": {
        "id": "uyRFrzFZuV6j"
      },
      "execution_count": 33,
      "outputs": []
    },
    {
      "cell_type": "code",
      "source": [
        "for coordinat in coordinates:\n",
        "    latitude.append(float(coordinat[0]))\n",
        "    longitude.append(float(coordinat[1]))"
      ],
      "metadata": {
        "id": "boj97nHEub5C"
      },
      "execution_count": 34,
      "outputs": []
    },
    {
      "cell_type": "code",
      "source": [
        "import numpy as np"
      ],
      "metadata": {
        "id": "8599QLnavljL"
      },
      "execution_count": 30,
      "outputs": []
    },
    {
      "cell_type": "code",
      "source": [
        "np.std(latitude)"
      ],
      "metadata": {
        "colab": {
          "base_uri": "https://localhost:8080/"
        },
        "id": "QXFx9r0NvcTU",
        "outputId": "ba768950-b729-4b33-887a-d348d58000bf"
      },
      "execution_count": 35,
      "outputs": [
        {
          "output_type": "execute_result",
          "data": {
            "text/plain": [
              "9.295514042490604"
            ]
          },
          "metadata": {},
          "execution_count": 35
        }
      ]
    },
    {
      "cell_type": "code",
      "source": [
        "np.std(longitude)"
      ],
      "metadata": {
        "colab": {
          "base_uri": "https://localhost:8080/"
        },
        "id": "mXgbj8HWvyvd",
        "outputId": "e72ffa2d-f26b-4320-d739-15544d7284d1"
      },
      "execution_count": 36,
      "outputs": [
        {
          "output_type": "execute_result",
          "data": {
            "text/plain": [
              "4.3449633341273675"
            ]
          },
          "metadata": {},
          "execution_count": 36
        }
      ]
    },
    {
      "cell_type": "code",
      "source": [
        "import plotly.express as px\n"
      ],
      "metadata": {
        "id": "WmwDwHtvw_pf"
      },
      "execution_count": 40,
      "outputs": []
    },
    {
      "cell_type": "code",
      "source": [
        "!pip install jupyter-dash\n",
        "!pip install chart_studio"
      ],
      "metadata": {
        "id": "wg4xLa55x5YD"
      },
      "execution_count": null,
      "outputs": []
    },
    {
      "cell_type": "code",
      "source": [
        "from jupyter_dash import JupyterDash\n",
        "import dash_core_components as dcc\n",
        "import dash_html_components as html\n",
        "from dash.dependencies import Input, Output \n",
        "from chart_studio import plotly\n",
        "import plotly.offline as pyoff\n",
        "import plotly.graph_objs as go"
      ],
      "metadata": {
        "colab": {
          "base_uri": "https://localhost:8080/",
          "height": 225
        },
        "id": "RZ8ZYJTKx-Eg",
        "outputId": "f51746d8-b73f-49c9-d63b-ff4937828e0d"
      },
      "execution_count": 48,
      "outputs": [
        {
          "output_type": "stream",
          "name": "stderr",
          "text": [
            "<ipython-input-48-d6c236a8daca>:2: UserWarning:\n",
            "\n",
            "\n",
            "The dash_core_components package is deprecated. Please replace\n",
            "`import dash_core_components as dcc` with `from dash import dcc`\n",
            "\n",
            "<ipython-input-48-d6c236a8daca>:3: UserWarning:\n",
            "\n",
            "\n",
            "The dash_html_components package is deprecated. Please replace\n",
            "`import dash_html_components as html` with `from dash import html`\n",
            "\n"
          ]
        }
      ]
    },
    {
      "cell_type": "code",
      "source": [
        "import plotly.io as pio\n",
        "pio.renderers.default = \"colab\""
      ],
      "metadata": {
        "id": "7nuGDPtqyure"
      },
      "execution_count": 50,
      "outputs": []
    },
    {
      "cell_type": "code",
      "source": [
        "fig = px.scatter_mapbox(pd.DataFrame([latitude, longitude]).T, lat=0, lon=1, size_max=15, zoom=1, width=1000, height=800, mapbox_style=\"dark\")\n",
        "fig.data[0].marker = dict(size = 5, color=\"red\")"
      ],
      "metadata": {
        "id": "kWuKFZpkwL6q"
      },
      "execution_count": 51,
      "outputs": []
    },
    {
      "cell_type": "code",
      "source": [],
      "metadata": {
        "id": "HqbN1bcvx0HI"
      },
      "execution_count": null,
      "outputs": []
    }
  ]
}